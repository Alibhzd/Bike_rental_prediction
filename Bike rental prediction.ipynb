{
 "cells": [
  {
   "cell_type": "markdown",
   "id": "a49ac5d3",
   "metadata": {},
   "source": [
    "# Bike Sharing Demand"
   ]
  },
  {
   "cell_type": "markdown",
   "id": "66b5b799",
   "metadata": {},
   "source": [
    "# Information"
   ]
  },
  {
   "cell_type": "markdown",
   "id": "698fa0f7",
   "metadata": {},
   "source": [
    "This dataset has been acquired from Kaggle: https://www.kaggle.com/c/bike-sharing-demand/data\n",
    "\n",
    "The analysis of this dataset has two phases. The first phase includes the exploratory data analysis and data visualization to gain insights into the dataset. In the second phase, i have used machine learning algorithms to predict the number of bake rentals in 2011 and 2012. At the end, i have checked my prediction by uploading it onto Kaggle where it avaluates how good my prediction was."
   ]
  },
  {
   "cell_type": "markdown",
   "id": "28e50257",
   "metadata": {},
   "source": [
    "# Exploratory data analysis"
   ]
  },
  {
   "cell_type": "code",
   "execution_count": null,
   "id": "6ad87b8f",
   "metadata": {},
   "outputs": [],
   "source": [
    "import numpy as np\n",
    "import pandas as pd\n",
    "import seaborn as sns\n",
    "import matplotlib.pyplot as plt\n",
    "\n",
    "from sklearn.model_selection import train_test_split\n",
    "from sklearn.metrics import accuracy_score\n",
    "\n",
    "from sklearn.preprocessing import StandardScaler, OneHotEncoder\n",
    "from sklearn.impute import SimpleImputer\n",
    "from sklearn.compose import ColumnTransformer\n",
    "from sklearn.pipeline import Pipeline\n",
    "from sklearn.preprocessing import KBinsDiscretizer\n",
    "from sklearn.preprocessing import MinMaxScaler\n",
    "\n",
    "from sklearn.linear_model import LinearRegression\n",
    "from sklearn.linear_model import Lasso\n",
    "from sklearn.ensemble import RandomForestRegressor\n",
    "\n",
    "\n",
    "from sklearn import set_config \n",
    "set_config(transform_output='pandas')\n",
    "\n",
    "import matplotlib.font_manager as fm"
   ]
  },
  {
   "cell_type": "code",
   "execution_count": null,
   "id": "14397d6b",
   "metadata": {},
   "outputs": [],
   "source": [
    "df = pd.read_csv(\"data/trainingset_bikeshare.csv\", index_col=0, parse_dates=True)\n",
    "df.head()"
   ]
  },
  {
   "cell_type": "code",
   "execution_count": null,
   "id": "0f5c4a2a",
   "metadata": {},
   "outputs": [],
   "source": [
    "df.tail()"
   ]
  },
  {
   "cell_type": "code",
   "execution_count": null,
   "id": "10db11e4",
   "metadata": {},
   "outputs": [],
   "source": [
    "df.isna().sum()"
   ]
  },
  {
   "cell_type": "code",
   "execution_count": null,
   "id": "daa6f0ff",
   "metadata": {},
   "outputs": [],
   "source": [
    "df['weather'].dtype"
   ]
  },
  {
   "cell_type": "code",
   "execution_count": null,
   "id": "75c45363",
   "metadata": {},
   "outputs": [],
   "source": [
    "col = ['workingday', 'weather', 'count', 'holiday']\n",
    "\n",
    "for i in col:\n",
    "    max = df[i].max(),\n",
    "    min = df[i].min()\n",
    "    print(f\"max and min for {i}: {max} and {min}\")"
   ]
  },
  {
   "cell_type": "code",
   "execution_count": null,
   "id": "654bbbdc",
   "metadata": {},
   "outputs": [],
   "source": [
    "df_corr = df.corr()\n",
    "\n",
    "plt.figure(figsize = (10,8))\n",
    "\n",
    "sns.heatmap(df_corr, annot = True)\n",
    "\n",
    "plt.title('Correlation Heat Map')"
   ]
  },
  {
   "cell_type": "code",
   "execution_count": null,
   "id": "f26e43d5",
   "metadata": {},
   "outputs": [],
   "source": [
    "sns.set(style= 'whitegrid')\n",
    "\n",
    "plt.figure(figsize = (8, 6))\n",
    "\n",
    "custom_palette = [\"orange\", \"lightblue\", \"lightgreen\", \"violet\"]\n",
    "\n",
    "plot = sns.barplot(x = 'season', y = 'count',  data = df) #palette = custom_palette,  #palette='colorblind' for colorblind people\n",
    "\n",
    "plt.title(\"Season's effect on bike rentals\", weight = 'bold', fontsize =13)\n",
    "plt.xlabel('Season', fontsize = 12)\n",
    "plt.ylabel('Rental counts', fontsize = 12)\n",
    "\n",
    "plot.spines['top'].set_visible(False)\n",
    "plot.spines['right'].set_visible(False)\n",
    "\n",
    "plt.setp(plot.get_yticklabels(), fontsize=12)\n",
    "plt.setp(plot.get_xticklabels(), fontsize=12)\n",
    "\n",
    "\n",
    "plt.grid(False)"
   ]
  },
  {
   "cell_type": "code",
   "execution_count": null,
   "id": "e597b5fc",
   "metadata": {},
   "outputs": [],
   "source": [
    "# adding 'time' column to the data frame\n",
    "df['time'] = df.index.time\n",
    "df.head()"
   ]
  },
  {
   "cell_type": "code",
   "execution_count": null,
   "id": "2769af9a",
   "metadata": {},
   "outputs": [],
   "source": [
    "# adding 'year column to the data frame'\n",
    "\n",
    "df['year'] = df.index.year\n",
    "\n",
    "df.head()"
   ]
  },
  {
   "cell_type": "code",
   "execution_count": null,
   "id": "430750fa",
   "metadata": {},
   "outputs": [],
   "source": [
    "# adding 'month' column to the data frame\n",
    "\n",
    "df['month'] = df.index.month\n",
    "df.tail()"
   ]
  },
  {
   "cell_type": "code",
   "execution_count": null,
   "id": "2ffdd473",
   "metadata": {},
   "outputs": [],
   "source": [
    "# adding 'weekday' to the data frame\n",
    "\n",
    "df['weekday'] = df.index.dayofweek\n",
    "df.tail(10)"
   ]
  },
  {
   "cell_type": "code",
   "execution_count": null,
   "id": "06e99f73",
   "metadata": {},
   "outputs": [],
   "source": [
    "#sns.set(style= 'whitegrid')\n",
    "\n",
    "plt.figure(figsize = (10, 8))\n",
    "\n",
    "plot = sns.lineplot(x = 'temp', y = 'count', hue = 'year', data = df)\n",
    "\n",
    "plt.title(\"Temperature's effect on bike rentals\", weight = 'bold', fontsize =12)\n",
    "plt.xlabel('Temperature', fontsize = 11)\n",
    "plt.ylabel('Rental counts', fontsize = 11)\n",
    "\n",
    "plot.spines['top'].set_visible(False)\n",
    "plot.spines['right'].set_visible(False)\n",
    "\n",
    "plt.setp(plot.get_yticklabels(), fontsize = 11)\n",
    "plt.setp(plot.get_xticklabels(), fontsize = 11)\n",
    "\n",
    "\n",
    "# Change legend -- font\n",
    "legend = plt.legend(title='Year', loc='upper left', fontsize = 10)\n",
    "\n",
    "import matplotlib.font_manager as fm\n",
    "\n",
    "legend.set_title('Year', prop=fm.FontProperties(size=11))\n",
    "legend.get_frame().set_linewidth(0)  # Remove legend frame border\n",
    "\n",
    "\n",
    "# Change legend font properties\n",
    "legend.texts[0].set_text('2011')  # Change legend label text\n",
    "legend.texts[1].set_text('2012')  \n",
    "\n",
    "plt.grid(False)"
   ]
  },
  {
   "cell_type": "code",
   "execution_count": null,
   "id": "5a03c2c7",
   "metadata": {},
   "outputs": [],
   "source": [
    "Dec2012 = df['2012-12-01': '2012-12-19']\n",
    "Dec2012.tail()\n"
   ]
  },
  {
   "cell_type": "code",
   "execution_count": null,
   "id": "64808562",
   "metadata": {},
   "outputs": [],
   "source": [
    "Dec2012.shape"
   ]
  },
  {
   "cell_type": "code",
   "execution_count": null,
   "id": "69e11ae5",
   "metadata": {},
   "outputs": [],
   "source": [
    "downsampled  = Dec2012[['casual', 'registered', 'count']].resample('D').mean().round(2)\n",
    "downsampled.head()"
   ]
  },
  {
   "cell_type": "code",
   "execution_count": null,
   "id": "62e29e29",
   "metadata": {},
   "outputs": [],
   "source": [
    "downsampled  = Dec2012[['casual', 'registered', 'count']].resample('D').sum()\n",
    "downsampled.head()"
   ]
  },
  {
   "cell_type": "code",
   "execution_count": null,
   "id": "18d83a8b",
   "metadata": {},
   "outputs": [],
   "source": [
    "July2012 = df['2012-07-01':'2012-07-19']\n",
    "July2012.head()"
   ]
  },
  {
   "cell_type": "code",
   "execution_count": null,
   "id": "6b4812ef",
   "metadata": {},
   "outputs": [],
   "source": [
    "July_downsample = July2012[['casual', 'registered', 'count']].resample('D').sum().sort_values(by = 'count', ascending = True)\n",
    "July_downsample.head()"
   ]
  },
  {
   "cell_type": "code",
   "execution_count": null,
   "id": "0d41cf80",
   "metadata": {},
   "outputs": [],
   "source": [
    "group_df = df.groupby(['season', 'year'])\n",
    "group_df = group_df['count'].agg('sum')\n",
    "group_df.head()"
   ]
  },
  {
   "cell_type": "code",
   "execution_count": null,
   "id": "700edfff",
   "metadata": {
    "scrolled": true
   },
   "outputs": [],
   "source": [
    "group_df = df.groupby(['season', 'year'])['count'].sum().reset_index()\n",
    "group_df.head()"
   ]
  },
  {
   "cell_type": "code",
   "execution_count": null,
   "id": "61cd4074",
   "metadata": {},
   "outputs": [],
   "source": [
    "\n",
    "custom_palette = [\"orange\", \"lightgreen\"]\n",
    "\n",
    "plot =  sns.barplot(x = 'season', y = 'count', hue = 'year', data = group_df, palette = custom_palette, errorbar = None)\n",
    "    \n",
    "    \n",
    "plot.spines['top'].set_visible(False)#remove\n",
    "plot.spines['right'].set_visible(False);#remove\n",
    "\n",
    "plt.title('Rental counts per year and season', weight = 'bold', fontsize = 11)\n",
    "plt.xlabel('Season', fontsize = 11)\n",
    "plt.ylabel('Rental count', fontsize = 11)\n",
    "\n",
    "# Change legend color and font\n",
    "legend = plt.legend(title='Year', loc='upper left', fontsize = 11)\n",
    "legend.get_frame().set_linewidth(0)  # Remove legend frame border\n",
    "legend.set_title('Year', prop=fm.FontProperties(size=14))\n",
    "\n",
    "# Change legend font properties\n",
    "legend.texts[0].set_text('2011')  # Change legend label text\n",
    "legend.texts[1].set_text('2012')  \n",
    "\n",
    "\n",
    "#ticklabels\n",
    "plt.setp(plot.get_yticklabels(), fontsize = 11)\n",
    "plt.setp(plot.get_xticklabels(), fontsize = 11)\n",
    "\n",
    "\n",
    "\n",
    "plt.show()\n",
    "\n"
   ]
  },
  {
   "cell_type": "code",
   "execution_count": null,
   "id": "333e72d8",
   "metadata": {},
   "outputs": [],
   "source": [
    "#sns.set(style= 'whitegrid')\n",
    "\n",
    "plt.figure(figsize = (10, 8))\n",
    "\n",
    "plot = sns.lineplot(x = 'year', y = 'count', hue= 'season', data = df)\n",
    "\n",
    "plt.title(\"Temperature's effect on bike rentals\", weight = 'bold', fontsize =12)\n",
    "plt.xlabel('Temperature', fontsize = 11)\n",
    "plt.ylabel('Rental counts', fontsize = 11)\n",
    "\n",
    "plot.spines['top'].set_visible(False)\n",
    "plot.spines['right'].set_visible(False)\n",
    "\n",
    "# Change legend color and font\n",
    "legend = plt.legend(title='Season', loc='upper left', fontsize = 11)\n",
    "legend.get_frame().set_linewidth(0)  # Remove legend frame border\n",
    "legend.set_title('Season', prop=fm.FontProperties(size=11))\n",
    "\n",
    "# Change legend font properties\n",
    "legend.texts[0].set_text('1')  # Change legend label text\n",
    "legend.texts[1].set_text('2')\n",
    "legend.texts[2].set_text('3')\n",
    "legend.texts[3].set_text('4')\n",
    "\n",
    "#ticklabels\n",
    "plt.setp(plot.get_yticklabels(), fontsize = 11)\n",
    "plt.setp(plot.get_xticklabels(), fontsize = 11)\n",
    "\n",
    "plt.grid(False)\n",
    "\n"
   ]
  },
  {
   "cell_type": "code",
   "execution_count": null,
   "id": "9687ace3",
   "metadata": {},
   "outputs": [],
   "source": [
    "plt.figure(figsize=(40,20))\n",
    "fig, ax = plt.subplots(nrows=2,ncols=2,figsize=(15,10))\n",
    "plt.text(-60, 1600, \"Comparison of climate factors by weather based on count  \" , fontsize=14,style='oblique',alpha=0.6);#spice\n",
    "axx=sns.lineplot(data=df, x=\"humidity\", y=\"count\",hue='season',ax=ax[0,0])\n",
    "axx.spines['top'].set_visible(False)#remove\n",
    "axx.spines['right'].set_visible(False);#remove\n",
    "axx=sns.lineplot(data=df, x=\"windspeed\", y=\"count\",hue='season',ax=ax[0,1])\n",
    "axx.spines['top'].set_visible(False)#remove\n",
    "axx.spines['right'].set_visible(False);#remove\n",
    "axx=sns.lineplot(data=df, x=\"atemp\", y=\"count\",hue='season',ax=ax[1,0])\n",
    "axx.spines['top'].set_visible(False)#remove\n",
    "axx.spines['right'].set_visible(False);#remove\n",
    "axx=sns.lineplot(data=df, x=\"temp\", y=\"count\",hue='season',ax=ax[1,1])\n",
    "axx.spines['top'].set_visible(False)#remove\n",
    "axx.spines['right'].set_visible(False);#remove"
   ]
  },
  {
   "cell_type": "code",
   "execution_count": null,
   "id": "9a2df62b",
   "metadata": {},
   "outputs": [],
   "source": [
    "group_newdf = df[['workingday', 'weather', 'count']].resample('H').sum()\n",
    "group_newdf.head()"
   ]
  },
  {
   "cell_type": "code",
   "execution_count": null,
   "id": "01c965c0",
   "metadata": {},
   "outputs": [],
   "source": [
    "df['time'] = pd.to_datetime(df['time'], format='%H:%M:%S').dt.time\n",
    "df.head()"
   ]
  },
  {
   "cell_type": "code",
   "execution_count": null,
   "id": "0b7fe0ff",
   "metadata": {},
   "outputs": [],
   "source": [
    "start_time = pd.to_datetime('13:00:00').time()\n",
    "\n",
    "end_time = pd.to_datetime('20:00:00').time()"
   ]
  },
  {
   "cell_type": "code",
   "execution_count": null,
   "id": "ec666918",
   "metadata": {},
   "outputs": [],
   "source": [
    "time_df = df[(df['time'] >= start_time) & (df['time'] <= end_time)]\n",
    "time_df"
   ]
  },
  {
   "cell_type": "code",
   "execution_count": null,
   "id": "1b7fa9c0",
   "metadata": {},
   "outputs": [],
   "source": [
    "group_time_df = time_df.groupby(['workingday', 'weather', 'time'])['count'].sum().reset_index()\n",
    "group_time_df.head()"
   ]
  },
  {
   "cell_type": "code",
   "execution_count": null,
   "id": "5a064a22",
   "metadata": {
    "scrolled": false
   },
   "outputs": [],
   "source": [
    "df[df['weather'] == 4]\n"
   ]
  },
  {
   "cell_type": "code",
   "execution_count": null,
   "id": "080680c8",
   "metadata": {},
   "outputs": [],
   "source": [
    "# as seen above there is only 1 row with weather 4, which is similar in description to level 3, we replace it with 3\n",
    "group_time_df.loc[group_time_df['weather'] == 4, 'weather'] = 3\n",
    "# i also do this for the main data frame\n",
    "df.loc[df['weather'] == 4, 'weather'] = 3"
   ]
  },
  {
   "cell_type": "code",
   "execution_count": null,
   "id": "6a1208a2",
   "metadata": {},
   "outputs": [],
   "source": [
    "plt.figure(figsize = (8, 6))\n",
    "color_palette = sns.color_palette(\"Blues_r\")\n",
    "\n",
    "\n",
    "plot = sns.barplot(x = 'workingday', y = 'count', hue= 'weather', data = group_time_df, palette=color_palette, errorbar = None)\n",
    "\n",
    "plt.title('The rental counts between 1-8pm based on working day', weight = 'bold', fontsize =11)\n",
    "plt.xlabel('Working day', fontsize =11)\n",
    "plt.ylabel('Rental count', fontsize =11)\n",
    "\n",
    "plot.spines['top'].set_visible(False)\n",
    "plot.spines['right'].set_visible(False)\n",
    "\n",
    "# Change legend color and font\n",
    "legend = plt.legend(title='Weather', loc='upper right', fontsize = 11)\n",
    "legend.get_frame().set_linewidth(0)  # Remove legend frame border\n",
    "legend.set_title('Season', prop=fm.FontProperties(size=11))\n",
    "\n",
    "# Change legend font properties\n",
    "legend.texts[0].set_text('1')  # Change legend label text\n",
    "legend.texts[1].set_text('2')  \n",
    "legend.texts[2].set_text('3')\n",
    "\n",
    "\n",
    "working_day_labels = ['Week day', 'Weekend & holiday']  # Custom labels for the levels\n",
    "plot.set_xticklabels(working_day_labels)\n",
    "\n",
    "plt.setp(plot.get_yticklabels(), fontsize=11)\n",
    "plt.setp(plot.get_xticklabels(), fontsize=11)\n",
    "\n",
    "\n",
    "# adding Year can also be informative"
   ]
  },
  {
   "cell_type": "markdown",
   "id": "c82f2ec0",
   "metadata": {},
   "source": [
    "**It is great to add the year to the plot too**"
   ]
  },
  {
   "cell_type": "markdown",
   "id": "f19bca4e",
   "metadata": {},
   "source": [
    "# Machine learning models"
   ]
  },
  {
   "cell_type": "code",
   "execution_count": null,
   "id": "819f3745",
   "metadata": {},
   "outputs": [],
   "source": [
    "df.head()"
   ]
  },
  {
   "cell_type": "code",
   "execution_count": null,
   "id": "2f3d0d0a",
   "metadata": {},
   "outputs": [],
   "source": [
    "# we log transform the 'count' column\n",
    "df['count'] = np.log1p(df['count'])"
   ]
  },
  {
   "cell_type": "code",
   "execution_count": null,
   "id": "00b3b55e",
   "metadata": {},
   "outputs": [],
   "source": [
    "plt.figure(figsize=(8, 10)) #curve is now less scewed\n",
    "sns.distplot(df['count'], bins = 60, color = \"red\")"
   ]
  },
  {
   "cell_type": "code",
   "execution_count": null,
   "id": "cfe5ac15",
   "metadata": {},
   "outputs": [],
   "source": [
    "numerical_features = ['temp', 'atemp', 'humidity', 'windspeed']\n",
    "\n",
    "categorical_features = ['season', 'workingday', 'holiday', 'weather', 'time', 'year', 'month', 'weekday']\n",
    "\n",
    "features = numerical_features + categorical_features\n",
    "\n",
    "target_variable = 'count'"
   ]
  },
  {
   "cell_type": "code",
   "execution_count": null,
   "id": "27f18e05",
   "metadata": {},
   "outputs": [],
   "source": [
    "x, y = df[features], df[target_variable]"
   ]
  },
  {
   "cell_type": "code",
   "execution_count": null,
   "id": "baf1b2ac",
   "metadata": {},
   "outputs": [],
   "source": [
    "x.shape"
   ]
  },
  {
   "cell_type": "code",
   "execution_count": null,
   "id": "1e496daa",
   "metadata": {},
   "outputs": [],
   "source": [
    "x_train, x_val, y_train, y_val = train_test_split(x,y, random_state=42)\n",
    "\n",
    "x_train.shape, x_val.shape, y_train.shape, y_val.shape"
   ]
  },
  {
   "cell_type": "code",
   "execution_count": null,
   "id": "6aa0a570",
   "metadata": {},
   "outputs": [],
   "source": [
    "column_transform = ColumnTransformer(\n",
    "    [(\"encoder\", OneHotEncoder(handle_unknown = \"ignore\", sparse = False, drop = 'first'), categorical_features),\n",
    "     ('scaling', MinMaxScaler(), numerical_features)\n",
    "    ],\n",
    "    remainder = 'passthrough'\n",
    ")"
   ]
  },
  {
   "cell_type": "code",
   "execution_count": null,
   "id": "4233669f",
   "metadata": {},
   "outputs": [],
   "source": [
    "x_train_transform = column_transform.fit_transform(x_train)\n",
    "x_train_transform"
   ]
  },
  {
   "cell_type": "code",
   "execution_count": null,
   "id": "6df2c8df",
   "metadata": {},
   "outputs": [],
   "source": [
    "# run the column transformation for the validation data set too so that they both have the similar and updated columns\n",
    "x_val_transform = column_transform.transform(x_val)\n",
    "x_val_transform"
   ]
  },
  {
   "cell_type": "code",
   "execution_count": null,
   "id": "379c66f4",
   "metadata": {},
   "outputs": [],
   "source": [
    "linear_reg = LinearRegression(fit_intercept=True)\n",
    "linear_reg.fit(x_train_transform, y_train)"
   ]
  },
  {
   "cell_type": "code",
   "execution_count": null,
   "id": "1e3ead12",
   "metadata": {},
   "outputs": [],
   "source": [
    "# training set score\n",
    "training_score = linear_reg.score(x_train_transform, y_train)\n",
    "print(f'The training score is: {round(training_score, 6)}')"
   ]
  },
  {
   "cell_type": "code",
   "execution_count": null,
   "id": "b6de931e",
   "metadata": {},
   "outputs": [],
   "source": [
    "# validation score\n",
    "validation_score = linear_reg.score(x_val_transform, y_val)\n",
    "\n",
    "print(f'The validation score is: {round(validation_score, 6)}')"
   ]
  },
  {
   "cell_type": "markdown",
   "id": "a80e8b80",
   "metadata": {},
   "source": [
    "## Grid estimator"
   ]
  },
  {
   "cell_type": "code",
   "execution_count": null,
   "id": "95b4d955",
   "metadata": {},
   "outputs": [],
   "source": [
    "estimator = Pipeline(\n",
    "    steps=[\n",
    "        ('preprocessor', column_transform),   # preprocessing step\n",
    "        ('lasso', Lasso()) # lasso regression\n",
    "    ]\n",
    ")"
   ]
  },
  {
   "cell_type": "code",
   "execution_count": null,
   "id": "cb97a188",
   "metadata": {},
   "outputs": [],
   "source": [
    "param_grid = {\n",
    "    'lasso__alpha': [100.,10.,1.,0.1,0.01],\n",
    "    'lasso__max_iter': [5_000, 10_000,20_000]\n",
    "}"
   ]
  },
  {
   "cell_type": "code",
   "execution_count": null,
   "id": "ab2eb9f5",
   "metadata": {},
   "outputs": [],
   "source": [
    "from sklearn.model_selection import GridSearchCV\n",
    "\n",
    "GS = GridSearchCV(\n",
    "    estimator=estimator,\n",
    "    param_grid=param_grid,\n",
    "    scoring='r2',\n",
    "    cv=5, \n",
    "    n_jobs=-1,\n",
    "    verbose=1\n",
    ")"
   ]
  },
  {
   "cell_type": "code",
   "execution_count": null,
   "id": "81e0b375",
   "metadata": {},
   "outputs": [],
   "source": [
    "import time\n",
    "# initial time\n",
    "ti = time.time()\n",
    "\n",
    "# grid-search cross-validation\n",
    "GS.fit(x_train,y_train)\n",
    "\n",
    "# final time \n",
    "tf = time.time()\n",
    "\n",
    "# time taken\n",
    "print(f\"time taken: {round(tf-ti,2)} sec\")"
   ]
  },
  {
   "cell_type": "markdown",
   "id": "6ec35bf8",
   "metadata": {},
   "source": [
    "### Best parameters"
   ]
  },
  {
   "cell_type": "code",
   "execution_count": null,
   "id": "d75e4f7b",
   "metadata": {},
   "outputs": [],
   "source": [
    "print(GS.best_params_) # to get only the best parameter values that we searched for"
   ]
  },
  {
   "cell_type": "markdown",
   "id": "1f99a0ba",
   "metadata": {},
   "source": [
    "### Best score\n"
   ]
  },
  {
   "cell_type": "code",
   "execution_count": null,
   "id": "b7bfd883",
   "metadata": {},
   "outputs": [],
   "source": [
    "round(GS.best_score_,6)"
   ]
  },
  {
   "cell_type": "markdown",
   "id": "7c09f782",
   "metadata": {},
   "source": [
    "### Instantiate best model"
   ]
  },
  {
   "cell_type": "code",
   "execution_count": null,
   "id": "af361df7",
   "metadata": {},
   "outputs": [],
   "source": [
    "best_model_lasso = GS.best_estimator_ # the model with the best sets of hyperparameters\n",
    "best_model_lasso"
   ]
  },
  {
   "cell_type": "markdown",
   "id": "9b58f236",
   "metadata": {},
   "source": [
    "### Build model"
   ]
  },
  {
   "cell_type": "code",
   "execution_count": null,
   "id": "5a9d9c68",
   "metadata": {},
   "outputs": [],
   "source": [
    "best_model_lasso.fit(x_train,y_train);"
   ]
  },
  {
   "cell_type": "markdown",
   "id": "b59d24a9",
   "metadata": {},
   "source": [
    "### Model performance"
   ]
  },
  {
   "cell_type": "code",
   "execution_count": null,
   "id": "c0f05b37",
   "metadata": {},
   "outputs": [],
   "source": [
    "# training score\n",
    "training_score = best_model_lasso.score(x_train,y_train)\n",
    "\n",
    "# test score\n",
    "test_score = best_model_lasso.score(x_val,y_val)\n",
    "\n",
    "print(f'Train score: {round(training_score,6)}')\n",
    "print(f'Test score : {round(test_score,6)}')"
   ]
  },
  {
   "cell_type": "markdown",
   "id": "8b017aeb",
   "metadata": {},
   "source": [
    "## Random Forest"
   ]
  },
  {
   "cell_type": "code",
   "execution_count": null,
   "id": "f1da8f9a",
   "metadata": {},
   "outputs": [],
   "source": [
    "#RF_estimator = Pipeline(\n",
    "#    steps=[\n",
    "#        ('preprocessor', column_transform),   # preprocessing step\n",
    "#        ('RF', RandomForestRegressor()) # random forest regression\n",
    "#    ]\n",
    "#)"
   ]
  },
  {
   "cell_type": "code",
   "execution_count": null,
   "id": "f9fc0ede",
   "metadata": {},
   "outputs": [],
   "source": [
    "#param_grid = {\n",
    "#    'RF__n_estimators': [50,100,200,300,500],\n",
    "#    'RF__max_depth': [5,10,20,None],\n",
    "#    'RF__min_samples_split': [2, 5, 10]\n",
    "#}"
   ]
  },
  {
   "cell_type": "code",
   "execution_count": null,
   "id": "547a829b",
   "metadata": {},
   "outputs": [],
   "source": [
    "GS_RF = GridSearchCV(\n",
    "    estimator=RF_estimator,\n",
    "    param_grid=param_grid,\n",
    "    scoring='r2',\n",
    "    cv=5, \n",
    "    n_jobs=-1,\n",
    "    verbose=1\n",
    ")"
   ]
  },
  {
   "cell_type": "code",
   "execution_count": null,
   "id": "ffe2c549",
   "metadata": {},
   "outputs": [],
   "source": [
    "import time\n",
    "# initial time\n",
    "ti = time.time()\n",
    "\n",
    "# grid-search cross-validation\n",
    "GS_RF.fit(x_train,y_train)\n",
    "\n",
    "# final time \n",
    "tf = time.time()\n",
    "\n",
    "# time taken\n",
    "print(f\"time taken: {round(tf-ti,2)} sec\")"
   ]
  },
  {
   "cell_type": "code",
   "execution_count": null,
   "id": "e110351b",
   "metadata": {},
   "outputs": [],
   "source": [
    "print(GS_RF.best_params_) # to get only the best parameter values that we searched for\n"
   ]
  },
  {
   "cell_type": "code",
   "execution_count": null,
   "id": "d33197bc",
   "metadata": {},
   "outputs": [],
   "source": [
    "print(GS_RF.best_score_,6)"
   ]
  },
  {
   "cell_type": "code",
   "execution_count": null,
   "id": "1320d327",
   "metadata": {},
   "outputs": [],
   "source": [
    "best_model = GS_RF.best_estimator_ # the model with the best sets of hyperparameters\n",
    "best_model"
   ]
  },
  {
   "cell_type": "code",
   "execution_count": null,
   "id": "25f7630f",
   "metadata": {},
   "outputs": [],
   "source": [
    "best_model.fit(x_train,y_train);"
   ]
  },
  {
   "cell_type": "code",
   "execution_count": null,
   "id": "4ad04300",
   "metadata": {},
   "outputs": [],
   "source": [
    "# training score\n",
    "training_score = best_model.score(x_train,y_train)\n",
    "\n",
    "# test score\n",
    "test_score = best_model.score(x_val,y_val)\n",
    "\n",
    "print(f'Train score: {round(training_score,6)}')\n",
    "print(f'Test score : {round(test_score,6)}')\n"
   ]
  },
  {
   "cell_type": "markdown",
   "id": "dd2d3fca",
   "metadata": {},
   "source": [
    "## Evaluation of the prediction on Kaggle"
   ]
  },
  {
   "cell_type": "code",
   "execution_count": null,
   "id": "f4fbf2ac",
   "metadata": {},
   "outputs": [],
   "source": [
    "test_df = pd.read_csv('data/test.csv', index_col=0)\n",
    "test_df.head()\n"
   ]
  },
  {
   "cell_type": "code",
   "execution_count": null,
   "id": "547ccde9",
   "metadata": {},
   "outputs": [],
   "source": [
    "test_df.isna().sum()"
   ]
  },
  {
   "cell_type": "code",
   "execution_count": null,
   "id": "a4f93e2e",
   "metadata": {},
   "outputs": [],
   "source": [
    "# to check whether level 4 exist which was the case in the training data that we replaced with 3\n",
    "test_df[test_df['weather'] == 4]"
   ]
  },
  {
   "cell_type": "code",
   "execution_count": null,
   "id": "4fd3ac52",
   "metadata": {},
   "outputs": [],
   "source": [
    "# as in the training dataset, we replaced level 4 with 3 as there was only one row. Therefore, we do this in this test data too.\n",
    "test_df.loc[test_df['weather'] == 4, 'weather'] = 3"
   ]
  },
  {
   "cell_type": "code",
   "execution_count": null,
   "id": "4f59ddef",
   "metadata": {},
   "outputs": [],
   "source": [
    "# Convert the index to a DatetimeIndex\n",
    "test_df.index = pd.DatetimeIndex(test_df.index)\n",
    "\n",
    "# extracting info and add them as columns\n",
    "test_df['time'] = test_df.index.time\n",
    "test_df['year'] = test_df.index.year\n",
    "test_df['month'] = test_df.index.month\n",
    "test_df['weekday'] = test_df.index.dayofweek\n",
    "\n",
    "test_df.head()"
   ]
  },
  {
   "cell_type": "code",
   "execution_count": null,
   "id": "6f0bc91c",
   "metadata": {},
   "outputs": [],
   "source": [
    "# convert the index column back to a column \n",
    "test_df.reset_index(inplace=True)\n",
    "test_df.head()"
   ]
  },
  {
   "cell_type": "code",
   "execution_count": null,
   "id": "3cfb6ea7",
   "metadata": {},
   "outputs": [],
   "source": [
    "numerical_features = ['temp', 'atemp', 'humidity', 'windspeed']\n",
    "\n",
    "categorical_features = ['season', 'workingday', 'holiday', 'weather', 'time', 'year', 'month', 'weekday']\n",
    "\n",
    "features = numerical_features + categorical_features"
   ]
  },
  {
   "cell_type": "code",
   "execution_count": null,
   "id": "d5c440af",
   "metadata": {},
   "outputs": [],
   "source": [
    "x = test_df[features]"
   ]
  },
  {
   "cell_type": "code",
   "execution_count": null,
   "id": "fd82ef21",
   "metadata": {},
   "outputs": [],
   "source": [
    "predict = best_model_lasso.predict(x) # we use x here because in the gridsearchcv above we did the column transformation\n",
    "predict"
   ]
  },
  {
   "cell_type": "code",
   "execution_count": null,
   "id": "8b21af6b",
   "metadata": {},
   "outputs": [],
   "source": [
    "x_test_pred_exp = np.expm1(predict)\n",
    "x_test_pred_exp"
   ]
  },
  {
   "cell_type": "code",
   "execution_count": null,
   "id": "76274d7d",
   "metadata": {},
   "outputs": [],
   "source": [
    "submission = pd.DataFrame({'datetime': test_df['datetime'], 'count': x_test_pred_exp})\n",
    "submission.to_csv('submission.csv', index=False)"
   ]
  }
 ],
 "metadata": {
  "kernelspec": {
   "display_name": "Python 3 (ipykernel)",
   "language": "python",
   "name": "python3"
  },
  "language_info": {
   "codemirror_mode": {
    "name": "ipython",
    "version": 3
   },
   "file_extension": ".py",
   "mimetype": "text/x-python",
   "name": "python",
   "nbconvert_exporter": "python",
   "pygments_lexer": "ipython3",
   "version": "3.10.9"
  }
 },
 "nbformat": 4,
 "nbformat_minor": 5
}
